{
 "cells": [
  {
   "cell_type": "code",
   "execution_count": 57,
   "metadata": {},
   "outputs": [],
   "source": [
    "N = 10000\n",
    "a, b = 1273, 4936"
   ]
  },
  {
   "cell_type": "code",
   "execution_count": 58,
   "metadata": {},
   "outputs": [],
   "source": [
    "def number_generator(N, a, b):\n",
    "    num = 1983\n",
    "    yield num\n",
    "    for _ in range(N - 1):\n",
    "        num = (num * a + b) % 20090711\n",
    "        yield num"
   ]
  },
  {
   "cell_type": "code",
   "execution_count": 59,
   "metadata": {},
   "outputs": [],
   "source": [
    "generator = number_generator(N, a, b)"
   ]
  },
  {
   "cell_type": "code",
   "execution_count": 60,
   "metadata": {},
   "outputs": [
    {
     "name": "stdout",
     "output_type": "stream",
     "text": [
      "19830000\n"
     ]
    }
   ],
   "source": [
    "left = []\n",
    "right = []\n",
    "ret = 0\n",
    "\n",
    "for _ in range(N):\n",
    "    num = next(generator)\n",
    "    if len(left) == len(right):\n",
    "        right.append(num)\n",
    "    else:\n",
    "        left.append(num)\n",
    "    \n",
    "    if left and right and (max(left) < min(right)):\n",
    "        a = max(left)\n",
    "        b = min(right)\n",
    "        left.remove(a)\n",
    "        right.remove(b)\n",
    "        \n",
    "        left.append(b)\n",
    "        right.append(a)\n",
    "        \n",
    "    ret = (ret + min(right)) % 20090711\n",
    "\n",
    "print(ret)"
   ]
  },
  {
   "cell_type": "code",
   "execution_count": 62,
   "metadata": {},
   "outputs": [
    {
     "data": {
      "text/plain": [
       "1983"
      ]
     },
     "execution_count": 62,
     "metadata": {},
     "output_type": "execute_result"
    }
   ],
   "source": [
    "min(right)"
   ]
  },
  {
   "cell_type": "code",
   "execution_count": null,
   "metadata": {},
   "outputs": [],
   "source": [
    "left.remove()"
   ]
  }
 ],
 "metadata": {
  "kernelspec": {
   "display_name": "Python 3",
   "language": "python",
   "name": "python3"
  },
  "language_info": {
   "codemirror_mode": {
    "name": "ipython",
    "version": 3
   },
   "file_extension": ".py",
   "mimetype": "text/x-python",
   "name": "python",
   "nbconvert_exporter": "python",
   "pygments_lexer": "ipython3",
   "version": "3.6.7"
  }
 },
 "nbformat": 4,
 "nbformat_minor": 2
}
