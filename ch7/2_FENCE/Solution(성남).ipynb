{
 "cells": [
  {
   "cell_type": "markdown",
   "metadata": {},
   "source": [
    "---\n",
    "애초에 제대로 된 직사각형보다 비스듬한 직사각형이 더 넓을 수 없음"
   ]
  },
  {
   "cell_type": "markdown",
   "metadata": {},
   "source": [
    "단순하게 푸는 건 걍 모든 거 다 해보는 거"
   ]
  },
  {
   "cell_type": "code",
   "execution_count": 1,
   "metadata": {},
   "outputs": [],
   "source": [
    "def solution(fence, length):\n",
    "    answer = 0\n",
    "    for i in range(length):\n",
    "        height = fence[i]\n",
    "        for j in range(i, length):\n",
    "            height = min([height, fence[j]])\n",
    "            answer = max([answer, (j - i + 1) * height])\n",
    "    return answer"
   ]
  },
  {
   "cell_type": "code",
   "execution_count": 2,
   "metadata": {},
   "outputs": [
    {
     "name": "stdout",
     "output_type": "stream",
     "text": [
      "20\n",
      "16\n",
      "8\n"
     ]
    }
   ],
   "source": [
    "with open('test_cases.txt', 'r') as f:\n",
    "    num_cases = int(f.readline())\n",
    "    for _ in range(num_cases):\n",
    "        length = int(f.readline())\n",
    "        fence = list(map(int, f.readline().strip().split()))\n",
    "        print(solution(fence, length))"
   ]
  },
  {
   "cell_type": "code",
   "execution_count": null,
   "metadata": {},
   "outputs": [],
   "source": []
  }
 ],
 "metadata": {
  "kernelspec": {
   "display_name": "Python 3",
   "language": "python",
   "name": "python3"
  },
  "language_info": {
   "codemirror_mode": {
    "name": "ipython",
    "version": 3
   },
   "file_extension": ".py",
   "mimetype": "text/x-python",
   "name": "python",
   "nbconvert_exporter": "python",
   "pygments_lexer": "ipython3",
   "version": "3.6.7"
  }
 },
 "nbformat": 4,
 "nbformat_minor": 2
}
