{
 "cells": [
  {
   "cell_type": "markdown",
   "metadata": {},
   "source": [
    "---\n",
    "애초에 제대로 된 직사각형보다 비스듬한 직사각형이 더 넓을 수 없음"
   ]
  },
  {
   "cell_type": "markdown",
   "metadata": {},
   "source": [
    "단순하게 푸는 건 걍 모든 거 다 해보는 거"
   ]
  },
  {
   "cell_type": "code",
   "execution_count": 38,
   "metadata": {},
   "outputs": [],
   "source": [
    "def solution(fence, length):\n",
    "    answer = 0\n",
    "    for left in range(length):\n",
    "        height = fence[left]\n",
    "        for right in range(left, length):\n",
    "            height = min([height, fence[right]])\n",
    "            answer = max([answer, (right - left + 1) * height])\n",
    "    return answer"
   ]
  },
  {
   "cell_type": "code",
   "execution_count": 39,
   "metadata": {},
   "outputs": [
    {
     "name": "stdout",
     "output_type": "stream",
     "text": [
      "20\n",
      "16\n",
      "8\n"
     ]
    }
   ],
   "source": [
    "with open('test_cases.txt', 'r') as f:\n",
    "    num_cases = int(f.readline())\n",
    "    for _ in range(num_cases):\n",
    "        length = int(f.readline())\n",
    "        fence = list(map(int, f.readline().strip().split()))\n",
    "        print(solution(fence, length))"
   ]
  },
  {
   "cell_type": "markdown",
   "metadata": {},
   "source": [
    "책에 나온대로 3가지 경우로 분할해서 풀어보자"
   ]
  },
  {
   "cell_type": "code",
   "execution_count": 46,
   "metadata": {},
   "outputs": [],
   "source": [
    "def solution(fence, left, right):\n",
    "    \"\"\"fence에서 left~right 구간에서의 최대 직사각형의 넓이를 반환\"\"\"\n",
    "    \n",
    "    # Base case : 하나만 있을 경우 반환\n",
    "    if left == right:\n",
    "        return fence[left]\n",
    "    \n",
    "    # Base case : 두개만 있을 경우 반환\n",
    "    if right == left + 1:\n",
    "        return max(min(left, right) * 2, max(left, right))\n",
    "    \n",
    "    # 중간점 찾기\n",
    "    mid = (left + right) // 2\n",
    "    \n",
    "    # 왼쪽과 오른쪽 분할해서 recursive하게 찾기 - 왼쪽에서만 나올 경우, 오른쪽에서만 나올 경우\n",
    "    answer = max([solution(fence, left, mid), solution(fence, mid + 1, right)])\n",
    "    \n",
    "    # 가운데를 걸치는 경우 생각 - 시작점은 left~mid에, 끝점은 mid+1~right에 있어야 함\n",
    "    # 시작은 중앙에서\n",
    "    l, r = mid, mid + 1\n",
    "    height = min(fence[l], fence[r])\n",
    "    answer = max(answer, height * 2)\n",
    "    while (left < l) or (r < right):\n",
    "        if (r < right) and (l == left or fence[l-1] < fence[r+1]):\n",
    "            r += 1\n",
    "            height = min(height, fence[r])\n",
    "        else:\n",
    "            l -= 1\n",
    "            height = min(height, fence[l])\n",
    "        answer = max(answer, height * (r - l + 1))\n",
    "    return answer"
   ]
  },
  {
   "cell_type": "code",
   "execution_count": 47,
   "metadata": {},
   "outputs": [
    {
     "data": {
      "text/plain": [
       "2"
      ]
     },
     "execution_count": 47,
     "metadata": {},
     "output_type": "execute_result"
    }
   ],
   "source": [
    "max(1,2)"
   ]
  },
  {
   "cell_type": "code",
   "execution_count": 48,
   "metadata": {},
   "outputs": [
    {
     "name": "stdout",
     "output_type": "stream",
     "text": [
      "20\n",
      "16\n",
      "6\n"
     ]
    }
   ],
   "source": [
    "with open('test_cases.txt', 'r') as f:\n",
    "    num_cases = int(f.readline())\n",
    "    for _ in range(num_cases):\n",
    "        length = int(f.readline())\n",
    "        fence = list(map(int, f.readline().strip().split()))\n",
    "        print(solution(fence, 0, len(fence) - 1))"
   ]
  },
  {
   "cell_type": "code",
   "execution_count": 42,
   "metadata": {},
   "outputs": [],
   "source": [
    "import numpy as np"
   ]
  },
  {
   "cell_type": "code",
   "execution_count": 24,
   "metadata": {},
   "outputs": [],
   "source": [
    "import time"
   ]
  },
  {
   "cell_type": "code",
   "execution_count": 28,
   "metadata": {},
   "outputs": [
    {
     "data": {
      "text/plain": [
       "2992"
      ]
     },
     "execution_count": 28,
     "metadata": {},
     "output_type": "execute_result"
    }
   ],
   "source": [
    "int(time.time()) % 1000"
   ]
  },
  {
   "cell_type": "code",
   "execution_count": 31,
   "metadata": {},
   "outputs": [],
   "source": [
    "import random"
   ]
  },
  {
   "cell_type": "code",
   "execution_count": 49,
   "metadata": {},
   "outputs": [
    {
     "data": {
      "text/plain": [
       "'병규'"
      ]
     },
     "execution_count": 49,
     "metadata": {},
     "output_type": "execute_result"
    }
   ],
   "source": [
    "np.random.choice(['성남', '지중', '병규', '세민'])"
   ]
  },
  {
   "cell_type": "code",
   "execution_count": null,
   "metadata": {},
   "outputs": [],
   "source": []
  }
 ],
 "metadata": {
  "kernelspec": {
   "display_name": "Python 3",
   "language": "python",
   "name": "python3"
  },
  "language_info": {
   "codemirror_mode": {
    "name": "ipython",
    "version": 3
   },
   "file_extension": ".py",
   "mimetype": "text/x-python",
   "name": "python",
   "nbconvert_exporter": "python",
   "pygments_lexer": "ipython3",
   "version": "3.6.7"
  }
 },
 "nbformat": 4,
 "nbformat_minor": 2
}
