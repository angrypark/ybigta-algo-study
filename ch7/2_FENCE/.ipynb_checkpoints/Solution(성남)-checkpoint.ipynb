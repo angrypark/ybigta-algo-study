{
 "cells": [
  {
   "cell_type": "markdown",
   "metadata": {},
   "source": [
    "# 2. 울타리 잘라내기\n",
    "\n",
    "#### 문제\n",
    "\n",
    "너비가 같은 N개의 나무 판자를 붙여 세운 울타리가 있습니다. 시간이 지남에 따라 판자들이 부러지거나 망가져 높이가 다 달라진 관계로 울타리를 통째로 교체하기로 했습니다. 이 때 버리는 울타리의 일부를 직사각형으로 잘라내 재활용하고 싶습니다. 그림 (b)는 (a)의 울타리에서 잘라낼 수 있는 많은 직사각형 중 가장 넓은 직사각형을 보여줍니다. 울타리를 구성하는 각 판자의 높이가 주어질 때, 잘라낼 수 있는 직사각형의 최대 크기를 계산하는 프로그램을 작성하세요. 단 (c)처럼 직사각형을 비스듬히 잘라낼 수는 없습니다.\n",
    "\n",
    "판자의 너비는 모두 1이라고 가정합니다.\n",
    "\n",
    "\n",
    "\n",
    "![fence](../../_images/fence.png)\n",
    "\n",
    "#### 입력\n",
    "\n",
    "첫 줄에 테스트 케이스의 개수 C (C≤50)가 주어집니다. 각 테스트 케이스의 첫 줄에는 판자의 수 N (1≤N≤20000)이 주어집니다. 그 다음 줄에는 N개의 정수로 왼쪽부터 각 판자의 높이가 순서대로 주어집니다. 높이는 모두 10,000 이하의 음이 아닌 정수입니다.\n",
    "\n",
    "\n",
    "\n",
    "#### 출력\n",
    "\n",
    "각 테스트 케이스당 정수 하나를 한 줄에 출력합니다. 이 정수는 주어진 울타리에서 잘라낼 수 있는 최대 직사각형의 크기를 나타내야 합니다.\n",
    "\n",
    "\n",
    "\n",
    "#### 예제 입력\n",
    "\n",
    "```\n",
    "3\n",
    "7\n",
    "7 1 5 9 6 7 3\n",
    "7\n",
    "1 4 4 4 4 1 1\n",
    "4\n",
    "1 8 2 2\n",
    "```\n",
    "\n",
    "\n",
    "\n",
    "#### 예제 출력\n",
    "\n",
    "```\n",
    "20\n",
    "16\n",
    "8\n",
    "```"
   ]
  },
  {
   "cell_type": "markdown",
   "metadata": {},
   "source": [
    "---\n",
    "애초에 제대로 된 직사각형보다 비스듬한 직사각형이 더 넓을 수 없음"
   ]
  },
  {
   "cell_type": "markdown",
   "metadata": {},
   "source": [
    "단순하게 푸는 건 걍 모든 거 다 해보는 거"
   ]
  },
  {
   "cell_type": "code",
   "execution_count": 9,
   "metadata": {},
   "outputs": [],
   "source": [
    "def solution(fence, length):\n",
    "    answer = 0\n",
    "    for i in range(length):\n",
    "        height = fence[i]\n",
    "        for j in range(length):\n",
    "            height = min([height, fence[j]])\n",
    "            answer = max([answer, (j - i + 1) * height])\n",
    "    return answer"
   ]
  },
  {
   "cell_type": "code",
   "execution_count": 10,
   "metadata": {},
   "outputs": [
    {
     "name": "stdout",
     "output_type": "stream",
     "text": [
      "7\n",
      "7\n",
      "4\n"
     ]
    }
   ],
   "source": [
    "with open('test_cases.txt', 'r') as f:\n",
    "    num_cases = int(f.readline())\n",
    "    for _ in range(num_cases):\n",
    "        length = int(f.readline())\n",
    "        fence = list(map(int, f.readline().strip().split()))\n",
    "        print(solution(fence, length))"
   ]
  },
  {
   "cell_type": "code",
   "execution_count": null,
   "metadata": {},
   "outputs": [],
   "source": []
  }
 ],
 "metadata": {
  "kernelspec": {
   "display_name": "Python 3",
   "language": "python",
   "name": "python3"
  },
  "language_info": {
   "codemirror_mode": {
    "name": "ipython",
    "version": 3
   },
   "file_extension": ".py",
   "mimetype": "text/x-python",
   "name": "python",
   "nbconvert_exporter": "python",
   "pygments_lexer": "ipython3",
   "version": "3.6.7"
  }
 },
 "nbformat": 4,
 "nbformat_minor": 2
}
