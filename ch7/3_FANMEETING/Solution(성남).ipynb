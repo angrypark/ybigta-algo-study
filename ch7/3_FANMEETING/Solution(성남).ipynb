{
 "cells": [
  {
   "cell_type": "markdown",
   "metadata": {},
   "source": [
    "뭐지.. 내가 잘못 생각한 건가 너무 쉬운데"
   ]
  },
  {
   "cell_type": "code",
   "execution_count": 1,
   "metadata": {},
   "outputs": [],
   "source": [
    "def is_all_hug(members, fans):\n",
    "    \"\"\"같은 길이의 두개의 string에 대해서 둘다 M인 경우가 없는 지 확인\"\"\"\n",
    "    length = len(members)\n",
    "    for s1, s2 in zip(members, fans):\n",
    "        if (s1 == 'M') & (s2 == 'M'):\n",
    "            return False\n",
    "    return True\n",
    "\n",
    "def solution(members, fans):\n",
    "    num_members = len(members)\n",
    "    num_fans = len(fans)\n",
    "    \n",
    "    answer = 0 \n",
    "    for i in range(num_fans - num_members + 1):\n",
    "        if is_all_hug(members, fans[i:i+num_members]):\n",
    "            answer += 1\n",
    "            \n",
    "    return answer"
   ]
  },
  {
   "cell_type": "code",
   "execution_count": 2,
   "metadata": {},
   "outputs": [
    {
     "name": "stdout",
     "output_type": "stream",
     "text": [
      "1\n",
      "6\n",
      "2\n",
      "2\n"
     ]
    }
   ],
   "source": [
    "with open('test_cases.txt', 'r') as f:\n",
    "    num_cases = int(f.readline())\n",
    "    for _ in range(num_cases):\n",
    "        members = f.readline().strip()\n",
    "        fans = f.readline().strip()\n",
    "        print(solution(members, fans))"
   ]
  },
  {
   "cell_type": "code",
   "execution_count": null,
   "metadata": {},
   "outputs": [],
   "source": []
  }
 ],
 "metadata": {
  "kernelspec": {
   "display_name": "Python 3",
   "language": "python",
   "name": "python3"
  },
  "language_info": {
   "codemirror_mode": {
    "name": "ipython",
    "version": 3
   },
   "file_extension": ".py",
   "mimetype": "text/x-python",
   "name": "python",
   "nbconvert_exporter": "python",
   "pygments_lexer": "ipython3",
   "version": "3.6.7"
  }
 },
 "nbformat": 4,
 "nbformat_minor": 2
}
