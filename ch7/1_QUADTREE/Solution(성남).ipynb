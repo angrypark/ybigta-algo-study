{
 "cells": [
  {
   "cell_type": "markdown",
   "metadata": {},
   "source": [
    "이 문제는 풀다가 어려워서 책보고 풀었음 ㅎㅎ"
   ]
  },
  {
   "cell_type": "code",
   "execution_count": 1,
   "metadata": {},
   "outputs": [],
   "source": [
    "def solution(picture):\n",
    "    # 첫부분이 x가 맞는지 확인\n",
    "    head = picture.pop(0)\n",
    "    \n",
    "    # 첫부분이 x가 아니면, 그대로 반환\n",
    "    if head != 'x':\n",
    "        return head\n",
    "    \n",
    "    # 첫부분이 x이면, 그 다음부분을 4개로 쪼개서 반환\n",
    "    reversed_picture = [solution(picture) for i in range(4)]\n",
    "    \n",
    "    return 'x' + reversed_picture[2] + reversed_picture[3] + reversed_picture[0] + reversed_picture[1]"
   ]
  },
  {
   "cell_type": "code",
   "execution_count": 2,
   "metadata": {},
   "outputs": [
    {
     "name": "stdout",
     "output_type": "stream",
     "text": [
      "w\n",
      "xwbbw\n",
      "xxbwwbbbw\n",
      "xxwbxwwxbbwwbwbxwbwwxwwwxbbwb\n"
     ]
    }
   ],
   "source": [
    "with open('test_cases.txt', 'r') as f:\n",
    "    num_cases = int(f.readline())\n",
    "    for _ in range(num_cases):\n",
    "        print(solution([s for s in f.readline().strip()]))"
   ]
  },
  {
   "cell_type": "code",
   "execution_count": null,
   "metadata": {},
   "outputs": [],
   "source": []
  }
 ],
 "metadata": {
  "kernelspec": {
   "display_name": "Python 3",
   "language": "python",
   "name": "python3"
  },
  "language_info": {
   "codemirror_mode": {
    "name": "ipython",
    "version": 3
   },
   "file_extension": ".py",
   "mimetype": "text/x-python",
   "name": "python",
   "nbconvert_exporter": "python",
   "pygments_lexer": "ipython3",
   "version": "3.6.7"
  }
 },
 "nbformat": 4,
 "nbformat_minor": 2
}
