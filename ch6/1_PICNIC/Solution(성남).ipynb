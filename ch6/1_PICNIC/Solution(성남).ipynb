{
 "cells": [
  {
   "cell_type": "markdown",
   "metadata": {},
   "source": [
    "뭐 일단 책에서 나온 방법대로 greedy하게 맞는지를 체크하는 걸로 해보자"
   ]
  },
  {
   "cell_type": "code",
   "execution_count": 1,
   "metadata": {},
   "outputs": [],
   "source": [
    "def solution(students_list, friends_list):\n",
    "    \"\"\"가장 빠른 순서의 학생의 친구를 찾고, 나머지는 재귀함수\"\"\"\n",
    "    student = students_list[0]\n",
    "    friends = [list(f) for f in friends_list if student in f]\n",
    "    [f.remove(student) for f in friends]\n",
    "    friends = [f[0] for f in friends if f[0] in students_list]\n",
    "    \n",
    "    # 친구가 없을 경우 0을 반환\n",
    "    if not friends:\n",
    "        return 0\n",
    "    \n",
    "    # 딱 2명 남았을 경우 바로 확인해서 반환\n",
    "    if len(students_list) == 2:\n",
    "        if set(students_list) in friends_list:\n",
    "            return 1\n",
    "        return 0\n",
    "    \n",
    "    answer = 0\n",
    "    students_list.remove(student)\n",
    "\n",
    "    # 각각의 친구 조합에 대해\n",
    "    for friend in friends:\n",
    "        # 친구 조합 빼주고\n",
    "        next_students_list = students_list.copy()\n",
    "        next_students_list.remove(friend)\n",
    "        \n",
    "        # 나머지를 계산해서 더하기\n",
    "        answer += solution(next_students_list, friends_list)\n",
    "        \n",
    "    return answer"
   ]
  },
  {
   "cell_type": "code",
   "execution_count": 2,
   "metadata": {},
   "outputs": [
    {
     "name": "stdout",
     "output_type": "stream",
     "text": [
      "1\n",
      "3\n",
      "4\n"
     ]
    }
   ],
   "source": [
    "if __name__ == '__main__':\n",
    "    f = open('test_cases.txt', 'r')\n",
    "    num_cases = int(f.readline().strip())\n",
    "    for _ in range(num_cases):\n",
    "        num_students, num_friends = list(map(int, f.readline().strip().split()))\n",
    "        friends_list = list(map(int, f.readline().strip().split()))\n",
    "        friends_list = [set(friends_list[2*i:2*i+2]) for i in range(num_friends)]\n",
    "        print(solution([i for i in range(num_students)], friends_list))"
   ]
  },
  {
   "cell_type": "markdown",
   "metadata": {},
   "source": [
    "---\n",
    "책을 보니깐 친구인지의 여부를 matrix로 확인하는 게 더 깔끔쓰"
   ]
  },
  {
   "cell_type": "code",
   "execution_count": 3,
   "metadata": {},
   "outputs": [],
   "source": [
    "def solution(students_list, friends_matrix):\n",
    "    \"\"\"가장 빠른 순서의 학생의 친구를 찾고, 나머지는 재귀함수\"\"\"\n",
    "    student = students_list[0]\n",
    "    friends = [s for s in students_list if friends_matrix[student][s] == 1]\n",
    "    \n",
    "    # 친구가 없을 경우 0을 반환\n",
    "    if not friends:\n",
    "        return 0\n",
    "    \n",
    "    # 딱 2명 남았을 경우 바로 확인해서 반환\n",
    "    if len(students_list) == 2:\n",
    "        if set(students_list) in friends_list:\n",
    "            return 1\n",
    "        return 0\n",
    "    \n",
    "    answer = 0\n",
    "    students_list.remove(student)\n",
    "\n",
    "    # 각각의 친구 조합에 대해\n",
    "    for friend in friends:\n",
    "        # 친구 조합 빼주고\n",
    "        next_students_list = students_list.copy()\n",
    "        next_students_list.remove(friend)\n",
    "        \n",
    "        # 나머지를 계산해서 더하기\n",
    "        answer += solution(next_students_list, friends_matrix)\n",
    "        \n",
    "    return answer"
   ]
  },
  {
   "cell_type": "code",
   "execution_count": 4,
   "metadata": {},
   "outputs": [],
   "source": [
    "import numpy as np"
   ]
  },
  {
   "cell_type": "code",
   "execution_count": 5,
   "metadata": {},
   "outputs": [
    {
     "name": "stdout",
     "output_type": "stream",
     "text": [
      "1\n",
      "3\n",
      "4\n"
     ]
    }
   ],
   "source": [
    "if __name__ == '__main__':\n",
    "    f = open('test_cases.txt', 'r')\n",
    "    num_cases = int(f.readline().strip())\n",
    "    for _ in range(num_cases):\n",
    "        num_students, num_friends = list(map(int, f.readline().strip().split()))\n",
    "        friends_list = list(map(int, f.readline().strip().split()))\n",
    "        friends_list = [set(friends_list[2*i:2*i+2]) for i in range(num_friends)]\n",
    "        friends_matrix = np.zeros([num_students, num_students])\n",
    "        for friends in friends_list:\n",
    "            ls = list(friends)\n",
    "            friends_matrix[ls[0]][ls[1]] = 1\n",
    "            friends_matrix[ls[1]][ls[0]] = 1\n",
    "        print(solution([i for i in range(num_students)], friends_matrix))"
   ]
  },
  {
   "cell_type": "code",
   "execution_count": null,
   "metadata": {},
   "outputs": [],
   "source": []
  }
 ],
 "metadata": {
  "kernelspec": {
   "display_name": "Python 3",
   "language": "python",
   "name": "python3"
  },
  "language_info": {
   "codemirror_mode": {
    "name": "ipython",
    "version": 3
   },
   "file_extension": ".py",
   "mimetype": "text/x-python",
   "name": "python",
   "nbconvert_exporter": "python",
   "pygments_lexer": "ipython3",
   "version": "3.6.7"
  }
 },
 "nbformat": 4,
 "nbformat_minor": 2
}
