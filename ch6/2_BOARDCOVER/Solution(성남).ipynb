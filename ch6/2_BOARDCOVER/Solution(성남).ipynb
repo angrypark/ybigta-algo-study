{
 "cells": [
  {
   "cell_type": "markdown",
   "metadata": {},
   "source": [
    "---\n",
    "책에 나온대로, 이런 문제 평소엔 어려웠는데 걍 recursive + greedy하게 찾으니깐 되겠네. 시간복잡도는 일단 고려하지 말자"
   ]
  },
  {
   "cell_type": "code",
   "execution_count": 6,
   "metadata": {},
   "outputs": [],
   "source": [
    "import numpy as np"
   ]
  },
  {
   "cell_type": "code",
   "execution_count": 7,
   "metadata": {},
   "outputs": [],
   "source": [
    "def add_block(h, w, i, j, state, case=0):\n",
    "    \"\"\"i, j 위치에서 겹치지 않게 4가지 방법으로 블록을 채울 수 있음\"\"\"\n",
    "    _state = np.copy(state)\n",
    "    \n",
    "    # 0번 케이스\n",
    "    if case == 0:\n",
    "        if (i == h - 1) | (j == w - 1):\n",
    "            return np.array([2])\n",
    "        _state[i, j] += 1 \n",
    "        _state[i+1, j] += 1 \n",
    "        _state[i+1, j+1] += 1\n",
    "        return _state\n",
    "\n",
    "    # 1번 케이스\n",
    "    if case == 1:\n",
    "        if (i == h - 1) | (j == w - 1):\n",
    "            return np.array([2])\n",
    "        _state[i, j] += 1 \n",
    "        _state[i, j+1] += 1 \n",
    "        _state[i+1, j] += 1\n",
    "        return _state\n",
    "\n",
    "    # 2번 케이스\n",
    "    if case == 2:\n",
    "        if (i == h - 1) | (j == 0):\n",
    "            return np.array([2])\n",
    "        _state[i, j] += 1 \n",
    "        _state[i+1, j] += 1 \n",
    "        _state[i+1, j-1] += 1\n",
    "        return _state\n",
    "\n",
    "    # 3번 케이스\n",
    "    if case == 3:\n",
    "        if (i == h - 1) | (j == w - 1):\n",
    "            return np.array([2])\n",
    "        _state[i, j] += 1 \n",
    "        _state[i, j+1] += 1  \n",
    "        _state[i+1, j+1] += 1\n",
    "        return _state\n",
    "\n",
    "    \n",
    "def find_first_blank(h, w, state):\n",
    "    \"\"\"책에 나온 대로 했음. 첫 blank 찾는 방식으로\"\"\"\n",
    "    for i in range(h):\n",
    "        for j in range(w):\n",
    "            if state[i, j] == 0:\n",
    "                return i, j\n",
    "    return h, w\n",
    "\n",
    "\n",
    "def solution(h, w, state):\n",
    "    # 가장 왼쪽 위에 있는 빈칸을 찾자\n",
    "    i, j = find_first_blank(h, w, state)\n",
    "    \n",
    "    # 다 차있는 경우에는, 딱 1가지\n",
    "    if state.all():\n",
    "        return 1\n",
    "    \n",
    "    # 빈칸의 갯수는 3의 배수여야 함\n",
    "    if (h * w - np.sum(state)) % 3 != 0:\n",
    "        return 0\n",
    "    \n",
    "    answer = 0\n",
    "    for k in range(4):\n",
    "        next_state = add_block(h, w, i, j, state, case=k)\n",
    "        if not (next_state > 1).any():\n",
    "            answer += solution(h, w, next_state)\n",
    "    \n",
    "    return answer"
   ]
  },
  {
   "cell_type": "code",
   "execution_count": 8,
   "metadata": {},
   "outputs": [
    {
     "name": "stdout",
     "output_type": "stream",
     "text": [
      "0\n",
      "2\n",
      "1514\n"
     ]
    }
   ],
   "source": [
    "with open('test_cases.txt', 'r') as f:\n",
    "    num_cases = int(f.readline())\n",
    "    for _ in range(num_cases):\n",
    "        h, w = map(int, f.readline().strip().split())\n",
    "        state = []\n",
    "        for _ in range(h):\n",
    "            state.append([1 if s == '#' else 0 for s in f.readline().strip()])\n",
    "        print(solution(h, w, np.array(state)))"
   ]
  },
  {
   "cell_type": "code",
   "execution_count": 10,
   "metadata": {},
   "outputs": [
    {
     "ename": "TypeError",
     "evalue": "'>' not supported between instances of 'list' and 'int'",
     "output_type": "error",
     "traceback": [
      "\u001b[0;31m---------------------------------------------------------------------------\u001b[0m",
      "\u001b[0;31mTypeError\u001b[0m                                 Traceback (most recent call last)",
      "\u001b[0;32m<ipython-input-10-0442bfbab6ae>\u001b[0m in \u001b[0;36m<module>\u001b[0;34m()\u001b[0m\n\u001b[0;32m----> 1\u001b[0;31m \u001b[0mstate\u001b[0m \u001b[0;34m>\u001b[0m \u001b[0;36m1\u001b[0m\u001b[0;34m\u001b[0m\u001b[0;34m\u001b[0m\u001b[0m\n\u001b[0m",
      "\u001b[0;31mTypeError\u001b[0m: '>' not supported between instances of 'list' and 'int'"
     ]
    }
   ],
   "source": [
    "if not (next_state > 1).any()"
   ]
  },
  {
   "cell_type": "code",
   "execution_count": null,
   "metadata": {},
   "outputs": [],
   "source": []
  }
 ],
 "metadata": {
  "kernelspec": {
   "display_name": "Python 3",
   "language": "python",
   "name": "python3"
  },
  "language_info": {
   "codemirror_mode": {
    "name": "ipython",
    "version": 3
   },
   "file_extension": ".py",
   "mimetype": "text/x-python",
   "name": "python",
   "nbconvert_exporter": "python",
   "pygments_lexer": "ipython3",
   "version": "3.6.7"
  }
 },
 "nbformat": 4,
 "nbformat_minor": 2
}
