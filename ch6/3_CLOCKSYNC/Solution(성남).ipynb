{
 "cells": [
  {
   "cell_type": "code",
   "execution_count": 1,
   "metadata": {},
   "outputs": [],
   "source": [
    "import numpy as np"
   ]
  },
  {
   "cell_type": "code",
   "execution_count": 2,
   "metadata": {},
   "outputs": [],
   "source": [
    "s = \"\"\"1110000000000000\n",
    "0001000101010000\n",
    "0000100000100011\n",
    "1000111100000000\n",
    "0000001110101000\n",
    "1010000000000011\n",
    "0001000000000011\n",
    "0000110100000011\n",
    "0111110000000000\n",
    "0001110001000100\"\"\"\n",
    "\n",
    "switch_matrix = [[int(c) for c in line] for line in s.split('\\n')]"
   ]
  },
  {
   "cell_type": "markdown",
   "metadata": {},
   "source": [
    "---\n",
    "어차피 4번 누르나 1번 누르나 완전히 똑같음. 그래서 각각의 스위치는 0번~3번까지 누를 수 있어서 4^10으로 찾을 수 있음"
   ]
  },
  {
   "cell_type": "code",
   "execution_count": 3,
   "metadata": {},
   "outputs": [],
   "source": [
    "def push_switch(clock_states, switch):\n",
    "    return list(map(lambda x, y: (x * 3 + y) % 12, switch_matrix[switch], clock_states))"
   ]
  },
  {
   "cell_type": "code",
   "execution_count": 4,
   "metadata": {},
   "outputs": [],
   "source": [
    "def is_aligned(clock_states):\n",
    "    return all([s == 0 for s in clock_states])"
   ]
  },
  {
   "cell_type": "code",
   "execution_count": 5,
   "metadata": {},
   "outputs": [],
   "source": [
    "def solution(clock_states, switch):\n",
    "    if switch == 10:\n",
    "        if is_aligned(clock_states): return 0\n",
    "        else: return 50\n",
    "    answer = 50\n",
    "    for i in range(4):\n",
    "        answer = min([answer, i + solution(clock_states, switch + 1)])\n",
    "        clock_states = push_switch(clock_states, switch)\n",
    "    return answer"
   ]
  },
  {
   "cell_type": "code",
   "execution_count": 6,
   "metadata": {},
   "outputs": [
    {
     "name": "stdout",
     "output_type": "stream",
     "text": [
      "2\n",
      "9\n"
     ]
    }
   ],
   "source": [
    "with open('test_cases.txt', 'r') as f:\n",
    "    num_cases = int(f.readline())\n",
    "    for _ in range(num_cases):\n",
    "        clock_states = list(map(int, f.readline().strip().split()))\n",
    "        print(solution(clock_states, 0))"
   ]
  },
  {
   "cell_type": "code",
   "execution_count": null,
   "metadata": {},
   "outputs": [],
   "source": []
  }
 ],
 "metadata": {
  "kernelspec": {
   "display_name": "Python 3",
   "language": "python",
   "name": "python3"
  },
  "language_info": {
   "codemirror_mode": {
    "name": "ipython",
    "version": 3
   },
   "file_extension": ".py",
   "mimetype": "text/x-python",
   "name": "python",
   "nbconvert_exporter": "python",
   "pygments_lexer": "ipython3",
   "version": "3.6.7"
  }
 },
 "nbformat": 4,
 "nbformat_minor": 2
}
