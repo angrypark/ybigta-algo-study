{
 "cells": [
  {
   "cell_type": "code",
   "execution_count": 53,
   "metadata": {},
   "outputs": [],
   "source": [
    "class Node(object):\n",
    "    def __init__(self):\n",
    "        self.children = []"
   ]
  },
  {
   "cell_type": "code",
   "execution_count": 54,
   "metadata": {},
   "outputs": [],
   "source": [
    "def get_distance(i, j):\n",
    "    return ((loc[i][0] - loc[j][0]) ** 2 + (loc[i][1] - loc[j][1]) ** 2) ** 0.5"
   ]
  },
  {
   "cell_type": "code",
   "execution_count": 55,
   "metadata": {},
   "outputs": [],
   "source": [
    "def is_enclosed(i, j):\n",
    "    return (radius[i] > radius[j]) and (get_distance(i, j) < (radius[i] - radius[j]) ** 0.5)"
   ]
  },
  {
   "cell_type": "code",
   "execution_count": 56,
   "metadata": {},
   "outputs": [],
   "source": [
    "def is_child(i, j):\n",
    "    if not is_enclosed(i, j):\n",
    "        return False\n",
    "    for k in range(N):\n",
    "        if (k not in [i, j]) and is_enclosed(i, k) and is_enclosed(k, j):\n",
    "            return False\n",
    "    return True"
   ]
  },
  {
   "cell_type": "code",
   "execution_count": 57,
   "metadata": {},
   "outputs": [],
   "source": [
    "def get_height(node):\n",
    "    \"\"\"\n",
    "    해당 node를 root로 하는 tree의 높이를 계산.\n",
    "    그와 동시에 임의의 두 노드 사이의 거리의 최댓값을 계산.\n",
    "    \"\"\"\n",
    "    global longest\n",
    "    if not node.children:\n",
    "        return 0\n",
    "    \n",
    "    heights = []\n",
    "    for child in node.children:\n",
    "        heights.append(get_height(child))\n",
    "    \n",
    "    heights = sorted(heights)\n",
    "    if len(heights) >= 2:\n",
    "        longest = max(longest, 2 + heights[-2] + heights[-1])\n",
    "    \n",
    "    return heights[-1] + 1"
   ]
  },
  {
   "cell_type": "code",
   "execution_count": 72,
   "metadata": {},
   "outputs": [],
   "source": [
    "def get_tree(i):\n",
    "    ret = Node()\n",
    "    for j in range(N):\n",
    "        if is_child(i, j):\n",
    "            ret.children.append(get_tree(j))\n",
    "    return ret"
   ]
  },
  {
   "cell_type": "code",
   "execution_count": 73,
   "metadata": {},
   "outputs": [],
   "source": [
    "loc = [[21, 15], [15, 15], [13, 12], [12, 12], [19, 19], [30, 24], [32, 10], [32, 9]]\n",
    "radius = [20, 10, 5, 3, 2, 5, 7, 4]"
   ]
  },
  {
   "cell_type": "code",
   "execution_count": 74,
   "metadata": {},
   "outputs": [],
   "source": [
    "N = 8"
   ]
  },
  {
   "cell_type": "code",
   "execution_count": 75,
   "metadata": {},
   "outputs": [],
   "source": [
    "longest = 0\n",
    "for i in range(8):\n",
    "    root = get_tree(i)\n",
    "    h = get_height(root)\n",
    "    longest = max(longest, h)"
   ]
  },
  {
   "cell_type": "code",
   "execution_count": 82,
   "metadata": {},
   "outputs": [],
   "source": [
    "root = get_tree(3)"
   ]
  },
  {
   "cell_type": "code",
   "execution_count": 68,
   "metadata": {},
   "outputs": [
    {
     "data": {
      "text/plain": [
       "0"
      ]
     },
     "execution_count": 68,
     "metadata": {},
     "output_type": "execute_result"
    }
   ],
   "source": [
    "get_height(root)"
   ]
  },
  {
   "cell_type": "code",
   "execution_count": 66,
   "metadata": {},
   "outputs": [
    {
     "data": {
      "text/plain": [
       "0"
      ]
     },
     "execution_count": 66,
     "metadata": {},
     "output_type": "execute_result"
    }
   ],
   "source": [
    "get_height(get_tree(0))"
   ]
  },
  {
   "cell_type": "code",
   "execution_count": 37,
   "metadata": {},
   "outputs": [
    {
     "data": {
      "text/plain": [
       "1"
      ]
     },
     "execution_count": 37,
     "metadata": {},
     "output_type": "execute_result"
    }
   ],
   "source": [
    "longest"
   ]
  },
  {
   "cell_type": "code",
   "execution_count": 87,
   "metadata": {},
   "outputs": [
    {
     "data": {
      "text/plain": [
       "False"
      ]
     },
     "execution_count": 87,
     "metadata": {},
     "output_type": "execute_result"
    }
   ],
   "source": [
    "is_child(0, 1)"
   ]
  },
  {
   "cell_type": "code",
   "execution_count": null,
   "metadata": {},
   "outputs": [],
   "source": []
  }
 ],
 "metadata": {
  "kernelspec": {
   "display_name": "Python 3",
   "language": "python",
   "name": "python3"
  },
  "language_info": {
   "codemirror_mode": {
    "name": "ipython",
    "version": 3
   },
   "file_extension": ".py",
   "mimetype": "text/x-python",
   "name": "python",
   "nbconvert_exporter": "python",
   "pygments_lexer": "ipython3",
   "version": "3.6.7"
  }
 },
 "nbformat": 4,
 "nbformat_minor": 2
}
