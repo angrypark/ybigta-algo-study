{
 "cells": [
  {
   "cell_type": "markdown",
   "metadata": {},
   "source": [
    "---\n",
    "책에 나온 문제다 보니, 좀만 막히면 바로 풀이를 보게 되네. 사실 그러면 아무 의미가 없는데..\n",
    "\n",
    "책을 안보고 문제만 풀어보고 나중에 공부해봅시다."
   ]
  },
  {
   "cell_type": "code",
   "execution_count": 1,
   "metadata": {},
   "outputs": [],
   "source": [
    "import numpy as np"
   ]
  },
  {
   "cell_type": "markdown",
   "metadata": {},
   "source": [
    "`*abcd` vs `abceabcd` : 이건 어케 풀지?"
   ]
  },
  {
   "cell_type": "markdown",
   "metadata": {},
   "source": [
    "?는 ㅈ밥임"
   ]
  },
  {
   "cell_type": "code",
   "execution_count": 32,
   "metadata": {},
   "outputs": [],
   "source": [
    "def solution(string, pattern):\n",
    "    string_length = len(string)\n",
    "    pattern_length = len(pattern)\n",
    "    \n",
    "    # 알지 못하는 건 -1로 표시. 처음이니깐 아예 모름\n",
    "    match_matrix = - np.ones([string_length + 1, pattern_length + 1], dtype=np.int)\n",
    "    \n",
    "    def is_match(i, j):\n",
    "        \"\"\"string의 i번째 문자열부터와 pattern의 j번째 문자열부터가 match하는 지 확인\"\"\"\n",
    "        \n",
    "        # 효율적인 계산을 위해, 사전에 저장된 matrix에 있으면 계산 안하고 return\n",
    "        if match_matrix[i][j] != -1:\n",
    "            return match_matrix[i][j]\n",
    "        \n",
    "        # 둘 다 마지막 글자일 때\n",
    "        if i == string_length - 1 & j == pattern_length - 1:\n",
    "            return int(string[i] == pattern[j] or pattern[j] == '*')\n",
    "            \n",
    "        \n",
    "        # 만약 둘이 동시에 끝나면 True, 둘 중에 하나만 먼저 끝나면 False\n",
    "        if i == string_length or j == pattern_length:\n",
    "            answer = int(i == string_length and (j == pattern_length or (j == pattern_length - 1 and pattern[j] == '*')))\n",
    "            match_matrix[i][j] = answer\n",
    "            return answer\n",
    "        \n",
    "        # ?는 단순 pass\n",
    "        if pattern[j] == '?':\n",
    "            answer = int(is_match(i + 1, j + 1))\n",
    "            match_matrix[i][j] = answer\n",
    "            return answer\n",
    "        \n",
    "        # *은 *을 남긴 상태로 재귀함수로 넘어갈 것\n",
    "        if pattern[j] == '*':\n",
    "            answer = int(any([is_match(i + skip, j + 1) for skip in range(string_length - i)]))\n",
    "            match_matrix[i][j] = answer\n",
    "            return answer\n",
    "        \n",
    "        answer = int((string[i] == pattern[j]) and is_match(i+1, j+1))\n",
    "        match_matrix[i][j] = answer\n",
    "        return answer\n",
    "    \n",
    "    return is_match(0, 0)"
   ]
  },
  {
   "cell_type": "code",
   "execution_count": 39,
   "metadata": {},
   "outputs": [
    {
     "name": "stdout",
     "output_type": "stream",
     "text": [
      "help\n",
      "heap\n",
      "help\n",
      "papa\n"
     ]
    }
   ],
   "source": [
    "with open('test_cases.txt', 'r') as f:\n",
    "    num_cases = int(f.readline())\n",
    "    for _ in range(num_cases):\n",
    "        pattern = f.readline()\n",
    "        num_strings = int(f.readline())\n",
    "        for _ in range(num_strings):\n",
    "            string = sys.stdin.readline()\n",
    "            if solution(string, pattern):\n",
    "                print(string)"
   ]
  }
 ],
 "metadata": {
  "kernelspec": {
   "display_name": "Python 3",
   "language": "python",
   "name": "python3"
  },
  "language_info": {
   "codemirror_mode": {
    "name": "ipython",
    "version": 3
   },
   "file_extension": ".py",
   "mimetype": "text/x-python",
   "name": "python",
   "nbconvert_exporter": "python",
   "pygments_lexer": "ipython3",
   "version": "3.6.7"
  }
 },
 "nbformat": 4,
 "nbformat_minor": 2
}
