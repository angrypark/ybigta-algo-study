{
 "cells": [
  {
   "cell_type": "markdown",
   "metadata": {},
   "source": [
    "---\n",
    "이건 간단한 recursive 문제"
   ]
  },
  {
   "cell_type": "code",
   "execution_count": 1,
   "metadata": {},
   "outputs": [],
   "source": [
    "import numpy as np"
   ]
  },
  {
   "cell_type": "code",
   "execution_count": 129,
   "metadata": {},
   "outputs": [],
   "source": [
    "def get_level(piece):\n",
    "    \"\"\"해당 조각의 난이도 구하기\"\"\"\n",
    "    length = len(piece)\n",
    "    \n",
    "    if length not in range(3, 6):\n",
    "        return np.inf\n",
    "    \n",
    "    # 한글자로만 이루어진 경우\n",
    "    if len(set(piece)) == 1:\n",
    "        return 1\n",
    "    \n",
    "    # 등차수열인 경우 (공차가 0인 경우는 앞에서 이미 제외됨)\n",
    "    if (piece[1] - piece[0] != 0) and list(range(piece[0], piece[-1] + 1, piece[1] - piece[0])) == piece:\n",
    "        # 공차가 1인 경우\n",
    "        if abs(piece[1] - piece[0]) == 1:\n",
    "            return 2\n",
    "        return 4\n",
    "    \n",
    "    # 두개의 숫자가 번갈아가며 나올 경우\n",
    "    if len(set(piece)) == 2 and [piece[0] if i % 2 == 0 else piece[1] for i in range(length)] == piece:\n",
    "        return 3\n",
    "    \n",
    "    return 10"
   ]
  },
  {
   "cell_type": "code",
   "execution_count": 130,
   "metadata": {},
   "outputs": [],
   "source": [
    "solution_cache = defaultdict(lambda: -1)"
   ]
  },
  {
   "cell_type": "code",
   "execution_count": 131,
   "metadata": {},
   "outputs": [
    {
     "data": {
      "text/plain": [
       "defaultdict(<function __main__.<lambda>()>, {})"
      ]
     },
     "execution_count": 131,
     "metadata": {},
     "output_type": "execute_result"
    }
   ],
   "source": [
    "solution_cache"
   ]
  },
  {
   "cell_type": "code",
   "execution_count": 132,
   "metadata": {},
   "outputs": [],
   "source": [
    "def solution(sequence):\n",
    "    key = ''.join(map(str, sequence))\n",
    "    \n",
    "    # 계산 두 번 하지 말자\n",
    "    if solution_cache[key] != -1:\n",
    "        return solution_cache[key]\n",
    "    \n",
    "    # 빈 시퀸스는 걍 0\n",
    "    if not sequence:\n",
    "        return 0\n",
    "    \n",
    "    # 이건 사실 말이 안됨\n",
    "    if len(sequence) < 3:\n",
    "        return np.inf\n",
    "    \n",
    "    # 3,4,5의 길이는 무조건 한 개\n",
    "    if len(sequence) < 6:\n",
    "        answer = get_level(sequence)\n",
    "        solution_cache[key] = answer\n",
    "        return answer\n",
    "    \n",
    "    # 계산 결과 저장\n",
    "    answers = [solution(sequence[:3]) + solution(sequence[3:]), \n",
    "               solution(sequence[:4]) + solution(sequence[4:]), \n",
    "               solution(sequence[:5]) + solution(sequence[5:])]\n",
    "    answer = min(answers)\n",
    "    solution_cache[key] = answer\n",
    "    return answer"
   ]
  },
  {
   "cell_type": "code",
   "execution_count": 133,
   "metadata": {},
   "outputs": [
    {
     "name": "stdout",
     "output_type": "stream",
     "text": [
      "4\n",
      "2\n",
      "4\n",
      "2\n",
      "13\n"
     ]
    }
   ],
   "source": [
    "with open('test_cases.txt', 'r') as f:\n",
    "    num_cases = int(f.readline())\n",
    "    for _ in range(num_cases):\n",
    "        sequence = [int(s) for s in f.readline().strip()]\n",
    "        print(solution(sequence))"
   ]
  },
  {
   "cell_type": "code",
   "execution_count": 134,
   "metadata": {},
   "outputs": [
    {
     "data": {
      "text/plain": [
       "defaultdict(<function __main__.<lambda>()>,\n",
       "            {'12341234': 4,\n",
       "             '123': 2,\n",
       "             '41234': 10,\n",
       "             '1234': 2,\n",
       "             '12341': 10,\n",
       "             '234': 2,\n",
       "             '11111222': 2,\n",
       "             '111': 1,\n",
       "             '11222': 10,\n",
       "             '1111': 1,\n",
       "             '1222': 10,\n",
       "             '11111': 1,\n",
       "             '222': 1,\n",
       "             '12122222': 4,\n",
       "             '121': 3,\n",
       "             '22222': 1,\n",
       "             '1212': 3,\n",
       "             '2222': 1,\n",
       "             '12122': 10,\n",
       "             '22222222': 2,\n",
       "             '12673939': 13,\n",
       "             '126': 10,\n",
       "             '73939': 10,\n",
       "             '1267': 10,\n",
       "             '3939': 3,\n",
       "             '12673': 10,\n",
       "             '939': 3})"
      ]
     },
     "execution_count": 134,
     "metadata": {},
     "output_type": "execute_result"
    }
   ],
   "source": [
    "solution_cache"
   ]
  },
  {
   "cell_type": "code",
   "execution_count": null,
   "metadata": {},
   "outputs": [],
   "source": [
    "import random"
   ]
  }
 ],
 "metadata": {
  "kernelspec": {
   "display_name": "Python 3",
   "language": "python",
   "name": "python3"
  },
  "language_info": {
   "codemirror_mode": {
    "name": "ipython",
    "version": 3
   },
   "file_extension": ".py",
   "mimetype": "text/x-python",
   "name": "python",
   "nbconvert_exporter": "python",
   "pygments_lexer": "ipython3",
   "version": "3.6.7"
  }
 },
 "nbformat": 4,
 "nbformat_minor": 2
}
