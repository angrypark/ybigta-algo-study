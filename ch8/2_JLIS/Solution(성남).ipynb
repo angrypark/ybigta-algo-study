{
 "cells": [
  {
   "cell_type": "markdown",
   "metadata": {},
   "source": [
    "## 처음 접근했던 방식\n",
    "- 어떤 sequence에 대해 모든 JIS를 구한다.\n",
    "- 두 개의 sequence가 주어졌을 때 각각 모든 JIS를 구한 다음에, 모든 조합을 다 합쳐보면서 JLIS를 구한다."
   ]
  },
  {
   "cell_type": "code",
   "execution_count": 45,
   "metadata": {},
   "outputs": [],
   "source": [
    "def get_jis(sequence):\n",
    "    \"\"\"어떤 sequence에 대해, 모든 JIS를 구해서 return\"\"\"\n",
    "    if len(sequence) == 1:\n",
    "        return [sequence]\n",
    "    answer = []\n",
    "    length = len(sequence)\n",
    "    \n",
    "    jis = [sequence[0]]\n",
    "    for i in range(length - 1):\n",
    "        if (sequence[i] >= sequence[i+1]) and jis != []:\n",
    "            answer.append(jis)\n",
    "            jis = []\n",
    "        jis.append(sequence[i+1])\n",
    "    if jis:\n",
    "        answer.append(sorted(list(set(jis))))\n",
    "    return answer"
   ]
  },
  {
   "cell_type": "code",
   "execution_count": 1,
   "metadata": {},
   "outputs": [],
   "source": [
    "from collections import defaultdict"
   ]
  },
  {
   "cell_type": "code",
   "execution_count": 40,
   "metadata": {},
   "outputs": [],
   "source": [
    "merged_dict = defaultdict(lambda: -1)"
   ]
  },
  {
   "cell_type": "code",
   "execution_count": 41,
   "metadata": {},
   "outputs": [],
   "source": [
    "def merge(sequence_1, sequence_2):\n",
    "    key = '{} | {}'.format(*sorted([' '.join(map(str, sequence_1)), ' '.join(map(str, sequence_2))]))\n",
    "    if merged_dict[key] != -1:\n",
    "        return merged_dict[key]\n",
    "    answer = len(set(sequence_1) | set(sequence_2))\n",
    "    merged_dict[key] = answer\n",
    "    return answer"
   ]
  },
  {
   "cell_type": "code",
   "execution_count": 42,
   "metadata": {},
   "outputs": [],
   "source": [
    "def solution(sequence_A, sequence_B):\n",
    "    jis_A = get_jis(sequence_A)\n",
    "    jis_B = get_jis(sequence_B)\n",
    "    \n",
    "    answer = -1\n",
    "    for a in jis_A:\n",
    "        for b in jis_B:\n",
    "            answer = max(answer, merge(a, b))\n",
    "    return answer"
   ]
  },
  {
   "cell_type": "code",
   "execution_count": 43,
   "metadata": {},
   "outputs": [
    {
     "name": "stdout",
     "output_type": "stream",
     "text": [
      "5\n",
      "6\n",
      "5\n",
      "5\n",
      "1\n",
      "4\n",
      "6\n",
      "2\n",
      "1\n",
      "2\n",
      "6\n",
      "1\n"
     ]
    }
   ],
   "source": [
    "with open('test_cases.txt', 'r') as f:\n",
    "\tnum_cases = int(f.readline())\n",
    "\tfor _ in range(num_cases):\n",
    "\t\tn, m = map(int, f.readline().split())\n",
    "\t\tsequence_A = list(map(int, f.readline().split()))\n",
    "\t\tsequence_B = list(map(int, f.readline().split()))\n",
    "\t\tprint(solution(sequence_A, sequence_B))"
   ]
  },
  {
   "cell_type": "markdown",
   "metadata": {},
   "source": [
    "### 틀렸음!\n",
    "- 애초에 JIS를 구하는 방식이 잘못됨\n",
    "- 그리고, 너무 비효율적임\n",
    "\n",
    "---\n",
    "책에서 본 힌트 : index_A, index_B를 구한 다음에 이를 바탕으로 recursive하게 구한다.\n",
    "\n"
   ]
  },
  {
   "cell_type": "code",
   "execution_count": 8,
   "metadata": {},
   "outputs": [],
   "source": [
    "def solution(A, B):\n",
    "    solutions_cache = defaultdict(lambda: defaultdict(lambda: -1))\n",
    "    n, m = len(A), len(B)\n",
    "    \n",
    "    def jlis(i, j):\n",
    "        \"\"\"A의 i번째, B의 j번째부터의 JLIS를 구해서 그 길이를 return\"\"\"\n",
    "        answer = solutions_cache[i][j]\n",
    "        \n",
    "        # 이미 계산된 값이면 바로 return\n",
    "        if answer != -1:\n",
    "            return answer\n",
    "        \n",
    "        answer = 2\n",
    "        max_value = max(A[i], B[j])\n",
    "        for next_i in range(i + 1, n):\n",
    "            if max_value < A[next_i]:\n",
    "                answer = max(answer, jlis(next_i, j) + 1)\n",
    "            \n",
    "        for next_j in range(j + 1, m):\n",
    "            if max_value < B[next_j]:\n",
    "                answer = max(answer, jlis(i, next_j) + 1)    \n",
    "                \n",
    "        solutions_cache[i][j] = answer\n",
    "        return answer\n",
    "    \n",
    "    return jlis(0, 0)\n"
   ]
  },
  {
   "cell_type": "code",
   "execution_count": 9,
   "metadata": {},
   "outputs": [
    {
     "data": {
      "text/plain": [
       "4"
      ]
     },
     "execution_count": 9,
     "metadata": {},
     "output_type": "execute_result"
    }
   ],
   "source": [
    "solution([10, 20, 30, 1, 2], [10, 20, 30]) "
   ]
  },
  {
   "cell_type": "code",
   "execution_count": null,
   "metadata": {},
   "outputs": [],
   "source": []
  }
 ],
 "metadata": {
  "kernelspec": {
   "display_name": "Python 3",
   "language": "python",
   "name": "python3"
  },
  "language_info": {
   "codemirror_mode": {
    "name": "ipython",
    "version": 3
   },
   "file_extension": ".py",
   "mimetype": "text/x-python",
   "name": "python",
   "nbconvert_exporter": "python",
   "pygments_lexer": "ipython3",
   "version": "3.6.7"
  }
 },
 "nbformat": 4,
 "nbformat_minor": 2
}
