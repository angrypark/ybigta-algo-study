{
 "cells": [
  {
   "cell_type": "markdown",
   "metadata": {},
   "source": [
    "# 6. 폴리오미노\n",
    "\n",
    "#### 문제\n",
    "\n",
    "정사각형들의 변들을 서로 완전하게 붙여 만든 도형들을 폴리오미노(Polyomino)라고 부릅니다. n개의 정사각형으로 구성된 폴리오미노들을 만들려고하는데, 이 중 세로로 단조(monotone)인 폴리오미노의 수가 몇 개나 되는지 세고 싶습니다. 세로로 단조라는 말은 어떤 가로줄도 폴리오미노를 두 번 이상 교차하지 않는다는 뜻입니다.\n",
    "\n",
    "![poly](../../_images/poly.png)\n",
    "\n",
    "예를 들어 그림 (a)는 정상적인 세로 단조 폴리오미노입니다. 그러나 (b)는 점선이 폴리오미노를 두 번 교차하기 때문에 세로 단조 폴리오미노가 아닙니다. (c)는 맨 오른쪽 아래 있는 정사각형이 다른 정사각형과 변을 완전히 맞대고 있지 않기 때문에 폴리오미노가 아닙니다.\n",
    "\n",
    "n개의 정사각형으로 구성된 세로 단조 폴리오미노의 개수를 세는 프로그램을 작성하세요.\n",
    "\n",
    "\n",
    "\n",
    "#### 입력\n",
    "\n",
    "입력의 첫 줄에는 테스트 케이스의 수 C (1≤C≤50)가 주어집니다. 그 후 각 줄에 폴리오미노를 구성할 정사각형의 수 n (1≤n≤100)이 주어집니다.\n",
    "\n",
    "\n",
    "\n",
    "#### 출력\n",
    "\n",
    "각 테스트 케이스마다, n개의 정사각형으로 구성된 세로 단조 폴리오미노의 수를 출력합니다. 폴리오미노의 수가 10,000,000 이상일 경우 10,000,000으로 나눈 나머지를 출력합니다.\n",
    "\n",
    "\n",
    "\n",
    "#### 예제 입력\n",
    "\n",
    "```\n",
    "3\n",
    "2\n",
    "4\n",
    "92\n",
    "```\n",
    "\n",
    "\n",
    "\n",
    "#### 예제 출력\n",
    "\n",
    "```\n",
    "2\n",
    "19\n",
    "4841817\n",
    "```\n",
    "\n"
   ]
  },
  {
   "cell_type": "markdown",
   "metadata": {},
   "source": [
    "---\n",
    "잘 보면, 결국 y축에 대해서 각각의 y값에 배정할 갯수를 정하면, 그걸로 답을 구할 수 있다."
   ]
  },
  {
   "cell_type": "code",
   "execution_count": 1,
   "metadata": {},
   "outputs": [],
   "source": [
    "from collections import defaultdict"
   ]
  },
  {
   "cell_type": "code",
   "execution_count": 2,
   "metadata": {},
   "outputs": [],
   "source": [
    "combinations_cache = defaultdict(lambda: defaultdict(lambda: -1))"
   ]
  },
  {
   "cell_type": "code",
   "execution_count": 3,
   "metadata": {},
   "outputs": [],
   "source": [
    "def combinations(n, start):\n",
    "    \"\"\"n개의 타일수이고, 첫줄의 갯수가 start개일 때의 값\"\"\"\n",
    "    # Base case\n",
    "    if n == start:\n",
    "        return 1\n",
    "    \n",
    "    # Base case\n",
    "    if n < start:\n",
    "        return 0\n",
    "    \n",
    "    # Cache에서 불러오자\n",
    "    if combinations_cache[n][start] != -1:\n",
    "        return combinations_cache[n][start]\n",
    "    \n",
    "    answer = 0\n",
    "    \n",
    "    # 두번째 줄에 i개가 있을 경우 : 1개부터 (n - start)개 까지\n",
    "    for i in range(1, n - start + 1):\n",
    "        answer += combinations(n - i, i) + i - 1\n",
    "        \n",
    "    # 캐쉬에 저장\n",
    "    combinations_cache[n][start] = answer\n",
    "    return answer"
   ]
  },
  {
   "cell_type": "code",
   "execution_count": 4,
   "metadata": {},
   "outputs": [],
   "source": [
    "def solution(n):\n",
    "    return sum([combinations(n, i) for i in rangse(1, n + 1)]) % 10000000"
   ]
  },
  {
   "cell_type": "code",
   "execution_count": 5,
   "metadata": {},
   "outputs": [
    {
     "name": "stdout",
     "output_type": "stream",
     "text": [
      "2\n",
      "13\n",
      "2813263\n"
     ]
    }
   ],
   "source": [
    "print(solution(2))\n",
    "print(solution(4))\n",
    "print(solution(92))"
   ]
  },
  {
   "cell_type": "markdown",
   "metadata": {},
   "source": [
    "2\n",
    "3\n",
    "4"
   ]
  },
  {
   "cell_type": "markdown",
   "metadata": {},
   "source": [
    "이 문제는 처음에 n개만을 input으로 받아서 이를 합이 n인 sequence들을 다 찾은 다음에, 2-gram으로 조합을 곱하면서 계산하는 방식으로 구현했었음. (나중에 빡쳐서 지웠는데 그래도 지우지 말껄)\n",
    "\n",
    "근데, 아무리 cache를 발라도, 합이 n인 sequence들을 저장하는 방법 자체가 $2^{n-1}$ 가지라서 메모리가 감당을 안됨. recursive는 이렇게 n만을 받을 때 불가하기도 했음.\n",
    "\n",
    "그 후에 책을 살짝 보고 힌트를 얻으니, n과 첫 줄의 갯수 2개를 인자를 받는 것 만으로 바로 recursive하게 계산할 수 있고 메모리도 적게 먹음"
   ]
  }
 ],
 "metadata": {
  "kernelspec": {
   "display_name": "Python 3",
   "language": "python",
   "name": "python3"
  },
  "language_info": {
   "codemirror_mode": {
    "name": "ipython",
    "version": 3
   },
   "file_extension": ".py",
   "mimetype": "text/x-python",
   "name": "python",
   "nbconvert_exporter": "python",
   "pygments_lexer": "ipython3",
   "version": "3.6.7"
  }
 },
 "nbformat": 4,
 "nbformat_minor": 2
}
