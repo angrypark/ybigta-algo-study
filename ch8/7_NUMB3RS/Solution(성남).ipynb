{
 "cells": [
  {
   "cell_type": "markdown",
   "metadata": {},
   "source": [
    "# 7. 두니발 박사의 탈옥\n",
    "\n",
    "#### 문제\n",
    "\n",
    "위험한 살인마 [두니발 박사](http://ko.wikipedia.org/wiki/한니발_렉터)가 감옥에서 탈출했습니다. 수배지를 붙이고 군경이 24시간 그를 추적하고 있지만 용의주도한 두니발 박사는 쉽사리 잡히지 않았습니다. d일이 지난 후에야 경찰은 프로그래밍의 천재인 [찰리 교수](http://ko.wikipedia.org/wiki/넘버스_(드라마))를 찾아왔습니다. 찰리 교수는 두니발 박사가 감옥에 남겨둔 노트를 분석해 다음과 같은 가설을 세웠습니다.\n",
    "\n",
    "- 두니발 박사는 검문을 피해 산길로만 이동한다.\n",
    "- 두니발 박사는 교도소를 탈출한 당일, 교도소와 인접한 마을 하나로 도망쳐 은신한다.\n",
    "- 두니발 박사는 수색을 피하기 위해 그 후 매일 인접한 마을로 움직여 은신한다.\n",
    "\n",
    "![dunibal](../../_images/dunibal.png)\n",
    "\n",
    "이 가설을 검증하기 위해 교도소로부터 산길로 연결된 n 개 마을들의 지도를 위 그림과 같이 구했습니다. 두니발 박사가 이 가설에 맞춰 행동하고, 움직일 수 있는 마을이 여러 개 있을 경우 그 중의 하나를 임의로 선택한다고 합시다. d 일 후에 두니발 교수가 각 마을에 있을 확률을 계산하는 프로그램을 작성하세요.\n",
    "\n",
    "예를 들어 위 지도에서 3번 마을에 교도소가 있다고 합시다. 탈옥 직후 두니발 교수는 0번, 1번, 2번, 4번, 5번 중의 한 도시를 임의로 골라 도망칩니다. 따라서 1일 후에 두니발 교수가 0번 마을에 숨어 있을 확률은 1/5이고, 2일 후에 1번 마을에 숨어 있을 확률은 1/15입니다.\n",
    "\n",
    "\n",
    "\n",
    "#### 입력\n",
    "\n",
    "입력의 첫 줄에는 테스트 케이스의 수 c (1 <= c <= 50) 가 주어집니다. 그 후 각 줄에 지도에 포함된 마을의 수 n (2 <= n <= 50) 과 탈출 후 지금까지 지난 일수 d (1 <= d <= 100), 그리고 교도소가 있는 마을의 번호 p (0 <= p < n) 가 주어집니다. 마을은 0번부터 n-1 번까지 순서대로 번호가 매겨져 있습니다. 그 후 n 줄에는 각각 n 개의 정수로 행렬 A 가 주어집니다. i 번 행의 j 번 숫자 A[i][j] 가 1인 경우 i 번 마을에서 j 번 마을을 잇는 산길이 있다는 것을 의미하며, 0인 경우 길이 없다는 것을 의미합니다. 그 다음 줄에 확률을 계산할 마을의 수 t (1 <= t <= n) 가 주어지고, 그 다음 줄에 t 개의 정수로 확률을 계산할 마을의 번호 q (0 <= q < n) 가 주어집니다.\n",
    "\n",
    "한 마을에서 다른 마을로 길이 있으면 반대 방향으로도 항상 있으며, 한 마을에서 자기 자신으로 연결되는 길은 없다고 가정해도 좋습니다.\n",
    "\n",
    "\n",
    "\n",
    "#### 출력\n",
    "\n",
    "각 테스트 케이스마다 t 개의 실수로 각 마을에 두니발 박사가 숨어 있을 확률을 출력합니다. 10-7 이하의 절대/상대 오차가 있는 경우 정답으로 처리됩니다.\n",
    "\n",
    "\n",
    "\n",
    "#### 예제 입력\n",
    "\n",
    "```\n",
    "2\n",
    "5 2 0\n",
    "0 1 1 1 0\n",
    "1 0 0 0 1\n",
    "1 0 0 0 0\n",
    "1 0 0 0 0\n",
    "0 1 0 0 0\n",
    "3\n",
    "0 2 4\n",
    "8 2 3\n",
    "0 1 1 1 0 0 0 0\n",
    "1 0 0 1 0 0 0 0\n",
    "1 0 0 1 0 0 0 0\n",
    "1 1 1 0 1 1 0 0\n",
    "0 0 0 1 0 0 1 1\n",
    "0 0 0 1 0 0 0 1\n",
    "0 0 0 0 1 0 0 0\n",
    "0 0 0 0 1 1 0 0\n",
    "4\n",
    "3 1 2 6\n",
    "```\n",
    "\n",
    "#### 예제 출력\n",
    "\n",
    "```\n",
    "0.83333333 0.00000000 0.16666667\n",
    "0.43333333 0.06666667 0.06666667 0.06666667\n",
    "```"
   ]
  },
  {
   "cell_type": "markdown",
   "metadata": {},
   "source": [
    "---\n",
    "`i,j`를 i에서 j로 갈 확률이라고 한다면, 단일 경우에 대해서는 다음과 같다"
   ]
  },
  {
   "cell_type": "code",
   "execution_count": 42,
   "metadata": {},
   "outputs": [],
   "source": [
    "import numpy as np"
   ]
  },
  {
   "cell_type": "code",
   "execution_count": 58,
   "metadata": {},
   "outputs": [],
   "source": [
    "text = '''0 1 1 1 0 0 0 0\n",
    "1 0 0 1 0 0 0 0\n",
    "1 0 0 1 0 0 0 0\n",
    "1 1 1 0 1 1 0 0\n",
    "0 0 0 1 0 0 1 1\n",
    "0 0 0 1 0 0 0 1\n",
    "0 0 0 0 1 0 0 0\n",
    "0 0 0 0 1 1 0 0'''"
   ]
  },
  {
   "cell_type": "code",
   "execution_count": 59,
   "metadata": {},
   "outputs": [],
   "source": [
    "D = np.array([list(map(int, line.split())) for line in text.split('\\n')])"
   ]
  },
  {
   "cell_type": "code",
   "execution_count": 60,
   "metadata": {},
   "outputs": [
    {
     "data": {
      "text/plain": [
       "array([[0.        , 0.33333333, 0.33333333, 0.33333333, 0.        ,\n",
       "        0.        , 0.        , 0.        ],\n",
       "       [0.5       , 0.        , 0.        , 0.5       , 0.        ,\n",
       "        0.        , 0.        , 0.        ],\n",
       "       [0.5       , 0.        , 0.        , 0.5       , 0.        ,\n",
       "        0.        , 0.        , 0.        ],\n",
       "       [0.2       , 0.2       , 0.2       , 0.        , 0.2       ,\n",
       "        0.2       , 0.        , 0.        ],\n",
       "       [0.        , 0.        , 0.        , 0.33333333, 0.        ,\n",
       "        0.        , 0.33333333, 0.33333333],\n",
       "       [0.        , 0.        , 0.        , 0.5       , 0.        ,\n",
       "        0.        , 0.        , 0.5       ],\n",
       "       [0.        , 0.        , 0.        , 0.        , 1.        ,\n",
       "        0.        , 0.        , 0.        ],\n",
       "       [0.        , 0.        , 0.        , 0.        , 0.5       ,\n",
       "        0.5       , 0.        , 0.        ]])"
      ]
     },
     "execution_count": 60,
     "metadata": {},
     "output_type": "execute_result"
    }
   ],
   "source": [
    "D = D / np.sum(D, axis=0)[:, None]\n",
    "D"
   ]
  },
  {
   "cell_type": "markdown",
   "metadata": {},
   "source": [
    "---\n",
    "정리하면, Distance Matrix D를 n일 치를 곱해서 계산하면 된다.\n",
    "\n",
    "$D^{n-1}$ 의 prison 열의 village들 return하면 됨\n"
   ]
  },
  {
   "cell_type": "code",
   "execution_count": 61,
   "metadata": {},
   "outputs": [],
   "source": [
    "def solution(D, num_days, prison, villages):\n",
    "    # Deep copy\n",
    "    _D = np.copy(D)\n",
    "    \n",
    "    # N번만큼 곱하면 된다\n",
    "    for _ in range(num_days - 1):\n",
    "        _D = np.dot(D, _D)\n",
    "        \n",
    "    # 처음 시작인 prison열의 village 행들이 바로 확률\n",
    "    prob = _D[prison][villages]\n",
    "\n",
    "    return ' '.join(['{:.8f}'.format(p) for p in prob])"
   ]
  },
  {
   "cell_type": "code",
   "execution_count": 62,
   "metadata": {},
   "outputs": [
    {
     "data": {
      "text/plain": [
       "'0.43333333 0.06666667 0.06666667 0.06666667'"
      ]
     },
     "execution_count": 62,
     "metadata": {},
     "output_type": "execute_result"
    }
   ],
   "source": [
    "solution(D, 2, 3, [3, 1, 2, 6])"
   ]
  },
  {
   "cell_type": "code",
   "execution_count": null,
   "metadata": {},
   "outputs": [],
   "source": []
  }
 ],
 "metadata": {
  "kernelspec": {
   "display_name": "Python 3",
   "language": "python",
   "name": "python3"
  },
  "language_info": {
   "codemirror_mode": {
    "name": "ipython",
    "version": 3
   },
   "file_extension": ".py",
   "mimetype": "text/x-python",
   "name": "python",
   "nbconvert_exporter": "python",
   "pygments_lexer": "ipython3",
   "version": "3.6.7"
  }
 },
 "nbformat": 4,
 "nbformat_minor": 2
}
