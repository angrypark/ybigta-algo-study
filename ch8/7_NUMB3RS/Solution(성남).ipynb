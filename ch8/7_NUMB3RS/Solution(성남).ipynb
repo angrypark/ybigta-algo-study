{
 "cells": [
  {
   "cell_type": "markdown",
   "metadata": {},
   "source": [
    "---\n",
    "`i,j`를 i에서 j로 갈 확률이라고 한다면, 단일 경우에 대해서는 다음과 같다"
   ]
  },
  {
   "cell_type": "code",
   "execution_count": 42,
   "metadata": {},
   "outputs": [],
   "source": [
    "import numpy as np"
   ]
  },
  {
   "cell_type": "code",
   "execution_count": 66,
   "metadata": {},
   "outputs": [],
   "source": [
    "text = '''0 1 1 1 0 0 0 0\n",
    "1 0 0 1 0 0 0 0\n",
    "1 0 0 1 0 0 0 0\n",
    "1 1 1 0 1 1 0 0\n",
    "0 0 0 1 0 0 1 1\n",
    "0 0 0 1 0 0 0 1\n",
    "0 0 0 0 1 0 0 0\n",
    "0 0 0 0 1 1 0 0'''"
   ]
  },
  {
   "cell_type": "code",
   "execution_count": 67,
   "metadata": {},
   "outputs": [],
   "source": [
    "D = np.array([list(map(int, line.split())) for line in text.split('\\n')])"
   ]
  },
  {
   "cell_type": "code",
   "execution_count": 68,
   "metadata": {},
   "outputs": [
    {
     "data": {
      "text/plain": [
       "array([[0.        , 0.33333333, 0.33333333, 0.33333333, 0.        ,\n",
       "        0.        , 0.        , 0.        ],\n",
       "       [0.5       , 0.        , 0.        , 0.5       , 0.        ,\n",
       "        0.        , 0.        , 0.        ],\n",
       "       [0.5       , 0.        , 0.        , 0.5       , 0.        ,\n",
       "        0.        , 0.        , 0.        ],\n",
       "       [0.2       , 0.2       , 0.2       , 0.        , 0.2       ,\n",
       "        0.2       , 0.        , 0.        ],\n",
       "       [0.        , 0.        , 0.        , 0.33333333, 0.        ,\n",
       "        0.        , 0.33333333, 0.33333333],\n",
       "       [0.        , 0.        , 0.        , 0.5       , 0.        ,\n",
       "        0.        , 0.        , 0.5       ],\n",
       "       [0.        , 0.        , 0.        , 0.        , 1.        ,\n",
       "        0.        , 0.        , 0.        ],\n",
       "       [0.        , 0.        , 0.        , 0.        , 0.5       ,\n",
       "        0.5       , 0.        , 0.        ]])"
      ]
     },
     "execution_count": 68,
     "metadata": {},
     "output_type": "execute_result"
    }
   ],
   "source": [
    "D = D / np.sum(D, axis=0)[:, None]\n",
    "D"
   ]
  },
  {
   "cell_type": "markdown",
   "metadata": {},
   "source": [
    "---\n",
    "정리하면, Distance Matrix D를 n일 치를 곱해서 계산하면 된다.\n",
    "\n",
    "$D^{n-1}$ 의 prison 열의 village들 return하면 됨\n"
   ]
  },
  {
   "cell_type": "code",
   "execution_count": 61,
   "metadata": {},
   "outputs": [],
   "source": [
    "def solution(D, num_days, prison, villages):\n",
    "    # Deep copy\n",
    "    _D = np.copy(D)\n",
    "    \n",
    "    # N번만큼 곱하면 된다\n",
    "    for _ in range(num_days - 1):\n",
    "        _D = np.dot(D, _D)\n",
    "        \n",
    "    # 처음 시작인 prison열의 village 행들이 바로 확률\n",
    "    prob = _D[prison][villages]\n",
    "\n",
    "    return ' '.join(['{:.8f}'.format(p) for p in prob])"
   ]
  },
  {
   "cell_type": "code",
   "execution_count": 62,
   "metadata": {},
   "outputs": [
    {
     "data": {
      "text/plain": [
       "'0.43333333 0.06666667 0.06666667 0.06666667'"
      ]
     },
     "execution_count": 62,
     "metadata": {},
     "output_type": "execute_result"
    }
   ],
   "source": [
    "solution(D, 2, 3, [3, 1, 2, 6])"
   ]
  },
  {
   "cell_type": "code",
   "execution_count": null,
   "metadata": {},
   "outputs": [],
   "source": []
  }
 ],
 "metadata": {
  "kernelspec": {
   "display_name": "Python 3",
   "language": "python",
   "name": "python3"
  },
  "language_info": {
   "codemirror_mode": {
    "name": "ipython",
    "version": 3
   },
   "file_extension": ".py",
   "mimetype": "text/x-python",
   "name": "python",
   "nbconvert_exporter": "python",
   "pygments_lexer": "ipython3",
   "version": "3.6.7"
  }
 },
 "nbformat": 4,
 "nbformat_minor": 2
}
