{
 "cells": [
  {
   "cell_type": "markdown",
   "metadata": {},
   "source": [
    "# 3. K-th Longest Increasing Sequence\n",
    "\n",
    "#### 문제\n",
    "\n",
    "어떤 정수 수열에서 0개 이상의 숫자를 지우면 이 수열의 부분 수열 (subsequence) 를 얻을 수 있다. 예를 들어 `10 7 4 9` 의 부분 수열에는 `7 4 9`, `10 4`, `10 9` 등이 있다. 단, `10 4 7` 은 원래 수열의 순서와 다르므로 `10 7 4 9` 의 부분 수열이 아니다.\n",
    "\n",
    "어떤 부분 수열이 _단조 증가_할 때 이 부분 수열을 증가 부분 수열 (increasing subsequence) 라고 하며, 이 중 가장 긴 것을 최대 증가 부분 수열 (LIS, longest increasing subsequence) 라고 한다. 예를 들어, `5 20 21 22 8 9 10`의 최대 증가 부분 수열은 `5 8 9 10` 이다.\n",
    "\n",
    "어떤 수열에는 LIS 가 두 개 이상 있을 수 있다. 예를 들어, `4 5 6 1 2 3` 의 LIS 는 두 개가 있다.\n",
    "\n",
    "*모든 숫자가 서로 다른 (중복 숫자가 없는)* 수열이 주어질 때, 이 수열의 LIS 중 사전 순서대로 맨 앞에서 k번째 있는 LIS 를 출력하는 프로그램을 작성하시오.\n",
    "\n",
    "\n",
    "\n",
    "#### 입력\n",
    "\n",
    "입력의 첫 줄에는 테스트 케이스의 수 C (<= 50) 가 주어진다. 각 테스트 케이스의 첫 줄에는 수열에 포함된 원소의 수 N (<= 500) 과 K 가 주어진다. K 는 32비트 부호 있는 정수에 저장할 수 있다. 그 다음 줄에 N개의 정수로 수열이 주어진다. 각 정수는 1 이상 100,000 이하이며, 같은 수는 두 번 등장하지 않는다.\n",
    "\n",
    "주어진 수열의 LIS 는 최소 K 개 있다고 가정해도 좋다.\n",
    "\n",
    "\n",
    "\n",
    "#### 출력\n",
    "\n",
    "각 테스트케이스마다 두 줄을 출력한다. 첫 줄에는 LIS 의 길이 L 을 출력하고, 그 다음 줄에 L 개의 정수로 K번째 LIS 를 출력한다.\n",
    "\n",
    "\n",
    "\n",
    "#### 예제 입력\n",
    "\n",
    "```\n",
    "3\n",
    "9 2\n",
    "1 9 7 4 2 6 3 11 10\n",
    "8 4\n",
    "2 1 4 3 6 5 8 7\n",
    "8 2\n",
    "5 6 7 8 1 2 3 4\n",
    "```\n",
    "\n",
    "\n",
    "\n",
    "#### 예제 출력\n",
    "\n",
    "```\n",
    "4\n",
    "1 2 3 11\n",
    "4\n",
    "1 3 6 8\n",
    "4\n",
    "5 6 7 8\n",
    "```"
   ]
  },
  {
   "cell_type": "code",
   "execution_count": null,
   "metadata": {},
   "outputs": [],
   "source": []
  }
 ],
 "metadata": {
  "kernelspec": {
   "display_name": "Python 3",
   "language": "python",
   "name": "python3"
  },
  "language_info": {
   "codemirror_mode": {
    "name": "ipython",
    "version": 3
   },
   "file_extension": ".py",
   "mimetype": "text/x-python",
   "name": "python",
   "nbconvert_exporter": "python",
   "pygments_lexer": "ipython3",
   "version": "3.6.7"
  }
 },
 "nbformat": 4,
 "nbformat_minor": 2
}
