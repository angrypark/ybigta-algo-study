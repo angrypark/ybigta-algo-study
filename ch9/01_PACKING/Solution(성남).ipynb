{
 "cells": [
  {
   "cell_type": "markdown",
   "metadata": {},
   "source": [
    "# 1. 여행 짐 싸기\n",
    "\n",
    "#### 문제\n",
    "\n",
    "여행을 떠나기 전날까지 절대 짐을 싸지 않는 버릇이 있는 재훈이는 오늘도 비행기 타기 전날에야 가방을 싸기 위해 자리에 앉았습니다. 비행기 규정상 재훈이는 캐리어를 하나만 가지고 갈 수 있는데, 아무래도 가져가고 싶은 물건들이 캐리어 안에 다 들어가지 않을 것 같습니다. 재훈이는 가져가고 싶은 각 물건들의 부피와 얼마나 필요한지를 나타내는 절박도를 조사해 다음과 같은 목록을 만들었습니다.\n",
    "\n",
    "|  물건  | 노트북 컴퓨터 | 카메라 | XBOX365 | 커피그라인더 | 아령 | 백과사전 |\n",
    "| :----: | :-----------: | :----: | :-----: | :----------: | :--: | :------: |\n",
    "|  부피  |       4       |   2    |    6    |      4       |  2   |    10    |\n",
    "| 절박도 |       7       |   10   |    6    |      7       |  5   |    4     |\n",
    "\n",
    "캐리어의 용량이 정해져 있기 때문에 가져갈 수 있는 물건들의 부피 합은 캐리어의 용량 w 이하여야 합니다. 이때 절박도를 최대화할 수 있는 물건들의 목록을 계산하는 프로그램을 작성하세요.\n",
    "\n",
    "\n",
    "\n",
    "#### 입력\n",
    "\n",
    "입력의 첫 줄에는 테스트 케이스의 수 C (1≤C≤50)가 주어집니다. 각 테스트 케이스의 첫 줄에는 가져가고 싶은 물건의 수 N (1≤N≤100)과 캐리어의 용량 W (1≤W≤1000)가 주어집니다. 그 이후 N줄에 순서대로 각 물건의 정보가 주어집니다. 한 물건에 대한 정보는 물건의 이름, 부피, 절박도 순서대로 주어지며, 이름은 공백 없는 알파벳 대소문자 1글자 이상 20글자 이하의 문자열, 부피와 절박도는 1000 이하의 자연수입니다.\n",
    "\n",
    "\n",
    "\n",
    "#### 출력\n",
    "\n",
    "각 테스트 케이스별 출력의 첫 줄에는 가져갈 수 있는 물건들의 최대 절박도 합과 가져갈 물건들의 개수를 출력합니다. 이후 한 줄에 하나씩 각 물건들의 이름을 출력합니다. 만약 절박도를 최대화하는 물건들의 조합이 여럿일 경우 아무 것이나 출력해도 좋습니다.\n",
    "\n",
    "\n",
    "\n",
    "#### 예제 입력\n",
    "\n",
    "```\n",
    "2\n",
    "6 10\n",
    "laptop 4 7\n",
    "camera 2 10\n",
    "xbox 6 6\n",
    "grinder 4 7\n",
    "dumbell 2 5\n",
    "encyclopedia 10 4\n",
    "6 17\n",
    "laptop 4 7\n",
    "camera 2 10\n",
    "xbox 6 6\n",
    "grinder 4 7\n",
    "dumbell 2 5\n",
    "encyclopedia 10 4\n",
    "```\n",
    "\n",
    "\n",
    "\n",
    "#### 예제 출력\n",
    "\n",
    "```\n",
    "24 3\n",
    "laptop\n",
    "camera\n",
    "grinder\n",
    "30 4\n",
    "laptop\n",
    "camera\n",
    "xbox\n",
    "grinder\n",
    "```"
   ]
  },
  {
   "cell_type": "markdown",
   "metadata": {},
   "source": [
    "---\n",
    "부피의 합은 W이하, 절박도는 최대화"
   ]
  },
  {
   "cell_type": "code",
   "execution_count": 1,
   "metadata": {},
   "outputs": [],
   "source": [
    "stuffs_list = [\n",
    "    ['labtop', 4, 7], ['camera', 2, 10], ['xbox', 6, 6], ['grinder', 4, 7], ['dumbell', 2, 5], ['encyclopedia', 10, 4]\n",
    "]"
   ]
  },
  {
   "cell_type": "markdown",
   "metadata": {},
   "source": [
    "절박도, 물건들 리스트를 반환해야 한다"
   ]
  },
  {
   "cell_type": "code",
   "execution_count": 37,
   "metadata": {},
   "outputs": [],
   "source": [
    "def solution(idx, W):\n",
    "    \"\"\"해당 idx에서부터의 물건들의 리스트들에 대해, 부피의 합이 W 이하면서 절박도의 합의 최대를 반환\"\"\"\n",
    "    \n",
    "    stuff = stuffs_list[idx]\n",
    "    \n",
    "    # 마지막 위치이면 절박도는 0이다.\n",
    "    if idx == len(stuffs_list) - 1:\n",
    "        return 0, []\n",
    "    \n",
    "    # 만약 W가 음수이면, 불가능하므로 절박도를 매우 작게 return\n",
    "    if W < 0:\n",
    "        return -9999, []\n",
    "    \n",
    "    # 만약 W가 0이면, 절박도도 0\n",
    "    if W == 0:\n",
    "        return 0, []\n",
    "    \n",
    "    w = stuffs_list[idx][1]\n",
    "    d = stuffs_list[idx][2]\n",
    "    \n",
    "    d_prev, stuffs_prev = solution(idx + 1, W - w)\n",
    "    d_next, stuffs_next = solution(idx + 1, W)\n",
    "    \n",
    "    # 현재 물건을 넣는 게 나은 경우\n",
    "    if (d_prev + d >= d_next) & (W - w >= 0):\n",
    "        return d_prev + d, stuffs_prev + [stuff]\n",
    "    else:\n",
    "        return d_next, stuffs_next"
   ]
  },
  {
   "cell_type": "code",
   "execution_count": 38,
   "metadata": {},
   "outputs": [
    {
     "data": {
      "text/plain": [
       "(24, [['grinder', 4, 7], ['camera', 2, 10], ['laptop', 4, 7]])"
      ]
     },
     "execution_count": 38,
     "metadata": {},
     "output_type": "execute_result"
    }
   ],
   "source": [
    "solution(0, 10)"
   ]
  },
  {
   "cell_type": "code",
   "execution_count": 39,
   "metadata": {},
   "outputs": [],
   "source": [
    "text = '''laptop 4 7\n",
    "camera 2 10\n",
    "xbox 6 6\n",
    "grinder 4 7\n",
    "dumbell 2 5\n",
    "encyclopedia 10 4'''"
   ]
  },
  {
   "cell_type": "code",
   "execution_count": 40,
   "metadata": {},
   "outputs": [],
   "source": [
    "stuffs_list = list(map(lambda x: [x[0], int(x[1]), int(x[2])], [line.split() for line in text.split('\\n')]))"
   ]
  },
  {
   "cell_type": "code",
   "execution_count": 41,
   "metadata": {},
   "outputs": [
    {
     "data": {
      "text/plain": [
       "[['laptop', 4, 7],\n",
       " ['camera', 2, 10],\n",
       " ['xbox', 6, 6],\n",
       " ['grinder', 4, 7],\n",
       " ['dumbell', 2, 5],\n",
       " ['encyclopedia', 10, 4]]"
      ]
     },
     "execution_count": 41,
     "metadata": {},
     "output_type": "execute_result"
    }
   ],
   "source": [
    "stuffs_list"
   ]
  },
  {
   "cell_type": "code",
   "execution_count": 42,
   "metadata": {},
   "outputs": [
    {
     "data": {
      "text/plain": [
       "(30, [['grinder', 4, 7], ['xbox', 6, 6], ['camera', 2, 10], ['laptop', 4, 7]])"
      ]
     },
     "execution_count": 42,
     "metadata": {},
     "output_type": "execute_result"
    }
   ],
   "source": [
    "solution(0, 17)"
   ]
  },
  {
   "cell_type": "code",
   "execution_count": null,
   "metadata": {},
   "outputs": [],
   "source": [
    "from sys import stdin\n",
    "\n",
    "class Node:\n",
    "    def __init__(self, data):\n",
    "        self.prev = None\n",
    "        self.next = None\n",
    "        self.data = data\n",
    "\n",
    "    def __str__(self):\n",
    "        return str(self.data)\n",
    "\n",
    "class List:\n",
    "    def __init__(self):\n",
    "        self.head = None\n",
    "        self.size = 0\n",
    "\n",
    "    def remove(self):\n",
    "        if self.size > 1:\n",
    "            prev = self.head.prev\n",
    "            next = self.head.next\n",
    "            prev.next = next\n",
    "            next.prev = prev\n",
    "            self.head = next\n",
    "        else:\n",
    "            self.head = None\n",
    "        self.size -= 1\n",
    "\n",
    "    def iter(self, k):\n",
    "        for _ in range(k):\n",
    "            self.head = self.head.next\n",
    "\n",
    "    def append(self, node):\n",
    "        if not self.size:\n",
    "            self.head = node\n",
    "            self.head.prev = node\n",
    "            self.head.next = node\n",
    "        else:\n",
    "            node.next = self.head\n",
    "            node.prev = self.head.prev\n",
    "            self.head.prev.next = node\n",
    "            self.head.prev = node\n",
    "        self.size += 1\n",
    "\n",
    "    def __str__(self):\n",
    "        s = '['\n",
    "        n = self.head\n",
    "        for _ in range(self.size):\n",
    "            s += str(n)\n",
    "            s += ', '\n",
    "            n = n.next\n",
    "        s += ']'\n",
    "        return s\n",
    "\n",
    "C = int(input())\n",
    "for _ in range(C):\n",
    "    N, K = [int(k) for k in input().split()]\n",
    "    circ_list = List()\n",
    "    for i in range(1, N+1):\n",
    "        node = Node(i)\n",
    "        circ_list.append(node)\n",
    "    while circ_list.size > 2:\n",
    "        circ_list.remove()\n",
    "        circ_list.iter(K-1)\n",
    "    a = circ_list.head.data\n",
    "    b = circ_list.head.next.data\n",
    "    print(a, b)"
   ]
  },
  {
   "cell_type": "code",
   "execution_count": null,
   "metadata": {},
   "outputs": [],
   "source": []
  }
 ],
 "metadata": {
  "kernelspec": {
   "display_name": "Python 3",
   "language": "python",
   "name": "python3"
  },
  "language_info": {
   "codemirror_mode": {
    "name": "ipython",
    "version": 3
   },
   "file_extension": ".py",
   "mimetype": "text/x-python",
   "name": "python",
   "nbconvert_exporter": "python",
   "pygments_lexer": "ipython3",
   "version": "3.6.7"
  }
 },
 "nbformat": 4,
 "nbformat_minor": 2
}
